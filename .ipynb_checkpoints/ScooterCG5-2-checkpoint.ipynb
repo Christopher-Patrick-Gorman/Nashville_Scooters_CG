{
 "cells": [
  {
   "cell_type": "code",
   "execution_count": null,
   "id": "b5de385d",
   "metadata": {},
   "outputs": [],
   "source": [
    "\n",
    "import pandas as pd\n",
    "\n",
    "from math import sin,cos,sqrt, asin, radians\n"
   ]
  },
  {
   "cell_type": "code",
   "execution_count": null,
   "id": "caeae2c3",
   "metadata": {},
   "outputs": [],
   "source": [
    "trips=pd.read_csv(r'C:\\Users\\G-Unit\\Chris\\NSSFiles\\Python\\Projects\\nashville_scooters-panthers\\trips_clean.csv')"
   ]
  },
  {
   "cell_type": "code",
   "execution_count": null,
   "id": "dc9d95de",
   "metadata": {
    "scrolled": false
   },
   "outputs": [],
   "source": [
    "# trips['geometry_start'] = trips.apply(lambda x: Point((float(x.startlongitude),\n",
    "#                                                 float(x.startlatitude))),\n",
    "#                                axis=1)\n",
    "# trips.head(3)"
   ]
  },
  {
   "cell_type": "code",
   "execution_count": null,
   "id": "785ff66b",
   "metadata": {},
   "outputs": [],
   "source": [
    "# trips['geometry_end'] = trips.apply(lambda x: Point((float(x.endlongitude),\n",
    "#                                                 float(x.endlatitude))),\n",
    "#                                axis=1)\n",
    "# trips.head(3)"
   ]
  },
  {
   "cell_type": "code",
   "execution_count": null,
   "id": "baed977d",
   "metadata": {
    "scrolled": true
   },
   "outputs": [],
   "source": [
    "str(trips['startlongitude'])"
   ]
  },
  {
   "cell_type": "code",
   "execution_count": null,
   "id": "4ee332eb",
   "metadata": {},
   "outputs": [],
   "source": [
    "str(trips['endlongitude'])"
   ]
  },
  {
   "cell_type": "code",
   "execution_count": null,
   "id": "0be66cbc",
   "metadata": {},
   "outputs": [],
   "source": [
    "# trips['start_loc']=trips.startlongitude.astype(str)+ \" , \" + trips.startlatitude.astype(str)"
   ]
  },
  {
   "cell_type": "code",
   "execution_count": null,
   "id": "5d0ecf14",
   "metadata": {
    "scrolled": true
   },
   "outputs": [],
   "source": [
    "# trips['end_loc']=trips.endlongitude.astype(str)+ \" , \" + trips.endlatitude.astype(str)\n",
    "trips.head()"
   ]
  },
  {
   "cell_type": "code",
   "execution_count": null,
   "id": "1213d843",
   "metadata": {
    "scrolled": true
   },
   "outputs": [],
   "source": [
    "bus_stops = pd.read_csv(r\"C:\\Users\\G-Unit\\Chris\\NSSFiles\\Python\\Projects\\nashville_scooters-panthers\\Bus_Stops.csv\")\n",
    "print(bus_stops.shape)\n",
    "bus_stops.head"
   ]
  },
  {
   "cell_type": "code",
   "execution_count": null,
   "id": "c01bc4f1",
   "metadata": {},
   "outputs": [],
   "source": [
    "bus_stops[['Latitude','Longitude']] = bus_stops['Mapped Location'].str.split(\",\", expand=True)"
   ]
  },
  {
   "cell_type": "code",
   "execution_count": null,
   "id": "2755ece6",
   "metadata": {},
   "outputs": [],
   "source": [
    "bus_stops['Latitude'] = bus_stops['Latitude'].str.strip(\"(\")\n",
    "bus_stops['Longitude'] = bus_stops['Longitude'].str.strip(\")\")"
   ]
  },
  {
   "cell_type": "code",
   "execution_count": null,
   "id": "2ad318d1",
   "metadata": {},
   "outputs": [],
   "source": [
    "# bus_stops['geometry'] = bus_stops.apply(lambda x: Point((float(x.Longitude),\n",
    "#                                                 float(x.Latitude))),\n",
    "#                                axis=1)\n",
    "bus_stops.head(3)"
   ]
  },
  {
   "cell_type": "code",
   "execution_count": null,
   "id": "98a2d53b",
   "metadata": {},
   "outputs": [],
   "source": [
    "bus_stops[['Latitude','Longitude']]=bus_stops[['Latitude','Longitude']].astype(float)"
   ]
  },
  {
   "cell_type": "code",
   "execution_count": null,
   "id": "e03ad898",
   "metadata": {
    "scrolled": true
   },
   "outputs": [],
   "source": [
    "trips=trips[trips['tripdistance']<=5280]"
   ]
  },
  {
   "cell_type": "code",
   "execution_count": null,
   "id": "24a4c4df",
   "metadata": {},
   "outputs": [],
   "source": [
    "trips.drop_duplicates(subset=['triprecordnum','sumdid'],inplace=True)"
   ]
  },
  {
   "cell_type": "code",
   "execution_count": null,
   "id": "6d990759",
   "metadata": {},
   "outputs": [],
   "source": [
    "bus_stops.drop_duplicates(subset=['Stop ID Number','Stop Abbreviation'],inplace=True)"
   ]
  },
  {
   "cell_type": "code",
   "execution_count": null,
   "id": "80f635e5",
   "metadata": {},
   "outputs": [],
   "source": [
    "trips.info()"
   ]
  },
  {
   "cell_type": "code",
   "execution_count": null,
   "id": "b28fa102",
   "metadata": {},
   "outputs": [],
   "source": [
    "def Haversine(lat1:float,lon1:float,lat2:float,lon2:float):\n",
    "\n",
    "    R=20925721.78 #radius in feet\n",
    "    \n",
    "    latr1 = radians(lat1)\n",
    "    lonr1 = radians(lon1)\n",
    "    latr2 = radians(lat2)\n",
    "    lonr2 = radians(lon2)\n",
    "    \n",
    "    dlon = lonr2-lonr1\n",
    "    dlat = latr2-latr1\n",
    "   \n",
    "    a = (sin(dlat / 2)**2) + (cos(latr1)) * (cos(latr2)) * (sin(dlon / 2)**2)\n",
    "    c =2 * asin(sqrt(a))\n",
    "    dist= R * c\n",
    "    \n",
    "    return dist\n"
   ]
  },
  {
   "cell_type": "code",
   "execution_count": null,
   "id": "147b1356",
   "metadata": {},
   "outputs": [],
   "source": [
    "trips_dict = trips.to_dict('records')\n",
    "stops_dict = bus_stops.to_dict('records2')\n",
    "\n",
    "last_mile = []\n",
    "\n",
    "for r in trips_dict:\n",
    "    for row in stops_dict:\n",
    "        dist1=Haversine(r['startlatitude'],r['startlongitude'],row['Latitude'],row['Longitude'])\n",
    "        dist2=Haversine(r['endlatitude'],r['endlongitude'],row['Latitude'],row['Longitude'])\n",
    "        if dist1 <=250:\n",
    "            temp_dict = {\n",
    "                'Bus Stop':row['Stop ID Number'],\n",
    "                'Trip ID' :r['triprecordnum'],\n",
    "                'Scooter ID':r['sumdid'],\n",
    "                'StartLat':r['startlatitude'],\n",
    "                'StartLong':r['startlongitude'],\n",
    "                'Start to Bus':dist1\n",
    "            }\n",
    "            last_mile.append(temp_dict)\n",
    "\n",
    "        if dist2 <=250:\n",
    "            temp_dict = {\n",
    "                'Bus Stop':row['Stop ID Number'],\n",
    "                'Trip ID':r['triprecordnum'],\n",
    "                'Scooter ID':r['sumdid'],\n",
    "                'EndLat':r['endlatitude'],\n",
    "                'EndLong':r['endlongitude'],\n",
    "                'End To Bus':dist2\n",
    "            }\n",
    "            last_mile.append(temp_dict)\n",
    "                \n",
    "       \n",
    "            \n"
   ]
  },
  {
   "cell_type": "code",
   "execution_count": null,
   "id": "11c11c71",
   "metadata": {
    "scrolled": true
   },
   "outputs": [],
   "source": [
    "trips_complete = pd.DataFrame(last_mile)\n",
    "trips_complete.drop_duplicates(subset=['Trip ID','Scooter ID'],inplace=True)\n",
    "trips_complete.to_csv(r'C:\\Users\\G-Unit\\Chris\\NSSFiles\\Python\\Projects\\nashville_scooters-panthers\\Trips_Complete_Final_Fantasy.csv')"
   ]
  },
  {
   "cell_type": "code",
   "execution_count": null,
   "id": "68a70ac5",
   "metadata": {},
   "outputs": [],
   "source": [
    "trips_complete.shape"
   ]
  },
  {
   "cell_type": "code",
   "execution_count": null,
   "id": "9a1b8268",
   "metadata": {},
   "outputs": [],
   "source": []
  }
 ],
 "metadata": {
  "kernelspec": {
   "display_name": "Python 3 (ipykernel)",
   "language": "python",
   "name": "python3"
  },
  "language_info": {
   "codemirror_mode": {
    "name": "ipython",
    "version": 3
   },
   "file_extension": ".py",
   "mimetype": "text/x-python",
   "name": "python",
   "nbconvert_exporter": "python",
   "pygments_lexer": "ipython3",
   "version": "3.10.9"
  }
 },
 "nbformat": 4,
 "nbformat_minor": 5
}
