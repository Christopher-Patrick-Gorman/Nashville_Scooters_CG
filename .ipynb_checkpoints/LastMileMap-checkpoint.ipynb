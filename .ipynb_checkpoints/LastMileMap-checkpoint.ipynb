{
 "cells": [
  {
   "cell_type": "code",
   "execution_count": null,
   "id": "21a7e8eb",
   "metadata": {},
   "outputs": [],
   "source": [
    "from shapely.geometry import Point\n",
    "import pandas as pd\n",
    "import geopandas as gpd\n",
    "import matplotlib.pyplot as plt\n",
    "import folium\n",
    "from folium.plugins import MarkerCluster\n",
    "from folium.plugins import FastMarkerCluster"
   ]
  },
  {
   "cell_type": "code",
   "execution_count": null,
   "id": "ed309af8",
   "metadata": {},
   "outputs": [],
   "source": [
    "trips_complete=pd.read_csv(r'C:\\Users\\G-Unit\\Chris\\NSSFiles\\Python\\Projects\\nashville_scooters-panthers\\Trips_Complete_Final_Fantasy.csv')"
   ]
  },
  {
   "cell_type": "code",
   "execution_count": null,
   "id": "32f20199",
   "metadata": {},
   "outputs": [],
   "source": [
    "bus_stops=pd.read_csv(r'C:\\Users\\G-Unit\\Chris\\NSSFiles\\Python\\Projects\\nashville_scooters-panthers\\bus_stops_geo.csv')"
   ]
  },
  {
   "cell_type": "code",
   "execution_count": null,
   "id": "1a6a3b6b",
   "metadata": {},
   "outputs": [],
   "source": [
    "pip install shapely==1.8.0\n"
   ]
  },
  {
   "cell_type": "code",
   "execution_count": null,
   "id": "07453df7",
   "metadata": {
    "scrolled": true
   },
   "outputs": [],
   "source": [
    "zipcodes = gpd.read_file(r'C:\\Users\\G-Unit\\Chris\\NSSFiles\\Python\\Data\\zipcodes.geojson')"
   ]
  },
  {
   "cell_type": "code",
   "execution_count": null,
   "id": "03f09662",
   "metadata": {},
   "outputs": [],
   "source": [
    "# bus_stops.drop_duplicates(subset=['Stop ID Number','Stop Abbreviation'],inplace=True)"
   ]
  },
  {
   "cell_type": "code",
   "execution_count": null,
   "id": "38c126c3",
   "metadata": {},
   "outputs": [],
   "source": [
    "bus_stops.shape"
   ]
  },
  {
   "cell_type": "code",
   "execution_count": null,
   "id": "c92dcba7",
   "metadata": {},
   "outputs": [],
   "source": [
    "zipcodes.crs"
   ]
  },
  {
   "cell_type": "code",
   "execution_count": null,
   "id": "1203fdc8",
   "metadata": {},
   "outputs": [],
   "source": [
    "trips_complete['geometry_start'] = trips_complete.apply(lambda x: Point((float(x.StartLong),\n",
    "                                                float(x.StartLat))),\n",
    "                               axis=1)"
   ]
  },
  {
   "cell_type": "code",
   "execution_count": null,
   "id": "ebf0f9e0",
   "metadata": {},
   "outputs": [],
   "source": [
    "trips_complete['geometry_end'] = trips_complete.apply(lambda x: Point((float(x.EndLong),\n",
    "                                                float(x.EndLat))),\n",
    "                               axis=1)"
   ]
  },
  {
   "cell_type": "code",
   "execution_count": null,
   "id": "f6dbbfc0",
   "metadata": {},
   "outputs": [],
   "source": [
    "bus_stops['geometry_bus'] = bus_stops.apply(lambda x: Point((float(x.Longitude),\n",
    "                                                float(x.Latitude))),\n",
    "                               axis=1)"
   ]
  },
  {
   "cell_type": "code",
   "execution_count": null,
   "id": "315428d9",
   "metadata": {},
   "outputs": [],
   "source": [
    "trips_geo_start=gpd.GeoDataFrame(trips_complete,\n",
    "                         crs=zipcodes.crs,\n",
    "                          geometry = trips_complete['geometry_start'])"
   ]
  },
  {
   "cell_type": "code",
   "execution_count": null,
   "id": "f5a7ebad",
   "metadata": {},
   "outputs": [],
   "source": [
    "trips_geo_end=gpd.GeoDataFrame(trips_complete,\n",
    "                         crs=zipcodes.crs,\n",
    "                          geometry = trips_complete['geometry_end'])"
   ]
  },
  {
   "cell_type": "code",
   "execution_count": null,
   "id": "718d2927",
   "metadata": {},
   "outputs": [],
   "source": [
    "bus_geo = gpd.GeoDataFrame(bus_stops, \n",
    "                           crs = zipcodes.crs, \n",
    "                           geometry = bus_stops['geometry_bus'])"
   ]
  },
  {
   "cell_type": "code",
   "execution_count": null,
   "id": "82f4828c",
   "metadata": {
    "scrolled": true
   },
   "outputs": [],
   "source": [
    "zipcodes.plot()"
   ]
  },
  {
   "cell_type": "code",
   "execution_count": null,
   "id": "59cc2f23",
   "metadata": {},
   "outputs": [],
   "source": [
    "trips_complete.tail()"
   ]
  },
  {
   "cell_type": "code",
   "execution_count": null,
   "id": "9a74c399",
   "metadata": {},
   "outputs": [],
   "source": [
    "zipcodes.geometry.centroid"
   ]
  },
  {
   "cell_type": "code",
   "execution_count": null,
   "id": "cb2c967e",
   "metadata": {},
   "outputs": [],
   "source": [
    "center = zipcodes.geometry.centroid[9]\n",
    "area_center = [center.y, center.x]"
   ]
  },
  {
   "cell_type": "code",
   "execution_count": null,
   "id": "2fac0cf6",
   "metadata": {},
   "outputs": [],
   "source": [
    "bus_marker=gpd.sjoin(bus_geo,zipcodes,op='within')\n",
    "start_bus=gpd.sjoin(trips_geo_start,zipcodes,op='within')\n"
   ]
  },
  {
   "cell_type": "code",
   "execution_count": null,
   "id": "ab32ee7a",
   "metadata": {},
   "outputs": [],
   "source": [
    "end_bus=gpd.sjoin(trips_geo_end,zipcodes,op='within')"
   ]
  },
  {
   "cell_type": "code",
   "execution_count": null,
   "id": "5fc2651d",
   "metadata": {},
   "outputs": [],
   "source": [
    "end_bus.head()"
   ]
  },
  {
   "cell_type": "code",
   "execution_count": null,
   "id": "dac2d1d2",
   "metadata": {
    "scrolled": true
   },
   "outputs": [],
   "source": [
    "zip_map_start = folium.Map(location =  area_center, zoom_start = 12)\n",
    "folium.GeoJson(zipcodes).add_to(zip_map_start)\n",
    "\n",
    "\n",
    "marker_cluster = MarkerCluster().add_to(zip_map_start)\n",
    "\n",
    "\n",
    "for row_index, row_values in bus_marker.iterrows():\n",
    "    loc = [row_values['Latitude'], row_values['Longitude']]\n",
    "    pop = str(row_values['Stop Name'])\n",
    "    icon=folium.Icon(color=\"red\",icon=\"bus\", prefix='fa')\n",
    "    \n",
    "    marker = folium.Marker(\n",
    "        location = loc, \n",
    "        popup = pop, icon = icon) \n",
    "    marker.add_to(zip_map_start)\n",
    "    \n",
    "for row_index, row_values in start_bus.iterrows():\n",
    "    loc = row_values['StartLat'],row_values['StartLong']\n",
    "    pop = str(row_values['Trip ID']) + str(row_values['Scooter ID'])\n",
    "    icon=folium.Icon(color=\"blue\",icon=\"star\", prefix='fa')\n",
    "    iframe=folium.Popup(pop,max_width=150)\n",
    "    marker = folium.Marker(\n",
    "        location = loc, \n",
    "        popup = iframe, icon = icon) \n",
    "    marker.add_to(marker_cluster)\n",
    "\n",
    "zip_map_start"
   ]
  },
  {
   "cell_type": "code",
   "execution_count": null,
   "id": "80eca0d6",
   "metadata": {},
   "outputs": [],
   "source": [
    "zip_map_end = folium.Map(location =  area_center, zoom_start = 12)\n",
    "folium.GeoJson(zipcodes).add_to(zip_map_end)\n",
    "\n",
    "\n",
    "marker_cluster = MarkerCluster().add_to(zip_map_end)\n",
    "\n",
    "\n",
    "for row_index, row_values in bus_marker.iterrows():\n",
    "    loc = [row_values['Latitude'], row_values['Longitude']]\n",
    "    pop = str(row_values['Stop Name'])\n",
    "    icon=folium.Icon(color=\"red\",icon=\"bus\", prefix='fa')\n",
    "    \n",
    "    marker = folium.Marker(\n",
    "        location = loc, \n",
    "        popup = pop, icon = icon) \n",
    "    marker.add_to(zip_map_end)\n",
    "    \n",
    "for row_index, row_values in end_bus.iterrows():\n",
    "    loc = row_values['EndLat'],row_values['EndLong']\n",
    "    pop = str(row_values['Trip ID']) + str(row_values['Scooter ID'])\n",
    "    icon=folium.Icon(color=\"blue\",icon=\"star\", prefix='fa')\n",
    "    marker = folium.Marker(\n",
    "        location = loc, \n",
    "        popup = pop,\n",
    "    icon = icon) \n",
    "    marker.add_to(marker_cluster)\n",
    "    \n",
    "\n",
    "zip_map_end"
   ]
  },
  {
   "cell_type": "code",
   "execution_count": null,
   "id": "789bb702",
   "metadata": {},
   "outputs": [],
   "source": [
    "trips_complete=trips_complete.dropna(subset=['EndLat'])\n",
    "\n",
    "trips_complete=trips_complete.dropna(subset=['EndLong'])\n",
    "\n",
    "trips_complete=trips_complete.dropna(subset=['Trip ID'])\n",
    "\n",
    "trips_complete=trips_complete.dropna(subset=['Scooter ID'])"
   ]
  },
  {
   "cell_type": "code",
   "execution_count": null,
   "id": "d62e6fd2",
   "metadata": {},
   "outputs": [],
   "source": [
    "zip_map_start.save(r'C:\\Users\\G-Unit\\Chris\\NSSFiles\\Python\\Maps\\zip_map_start.html')"
   ]
  },
  {
   "cell_type": "code",
   "execution_count": null,
   "id": "90bbb2cc",
   "metadata": {},
   "outputs": [],
   "source": [
    "zip_map_end.save(r'C:\\Users\\G-Unit\\Chris\\NSSFiles\\Python\\Maps\\zip_map_end.html')"
   ]
  },
  {
   "cell_type": "code",
   "execution_count": null,
   "id": "828aea79",
   "metadata": {},
   "outputs": [],
   "source": []
  }
 ],
 "metadata": {
  "kernelspec": {
   "display_name": "Python 3 (ipykernel)",
   "language": "python",
   "name": "python3"
  },
  "language_info": {
   "codemirror_mode": {
    "name": "ipython",
    "version": 3
   },
   "file_extension": ".py",
   "mimetype": "text/x-python",
   "name": "python",
   "nbconvert_exporter": "python",
   "pygments_lexer": "ipython3",
   "version": "3.10.9"
  }
 },
 "nbformat": 4,
 "nbformat_minor": 5
}
